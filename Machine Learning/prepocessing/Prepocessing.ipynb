{
  "nbformat": 4,
  "nbformat_minor": 0,
  "metadata": {
    "colab": {
      "provenance": []
    },
    "kernelspec": {
      "name": "python3",
      "display_name": "Python 3"
    },
    "language_info": {
      "name": "python"
    }
  },
  "cells": [
    {
      "cell_type": "code",
      "source": [
        "import os\n",
        "from pathlib import Path\n",
        "import numpy as np\n",
        "from sklearn.model_selection import train_test_split\n",
        "import tensorflow as tf\n",
        "from tensorflow.keras.preprocessing.image import ImageDataGenerator\n",
        "from tensorflow.keras.models import Sequential\n",
        "import matplotlib.pyplot as plt\n",
        "import pandas as pd\n",
        "import shutil"
      ],
      "metadata": {
        "id": "ouXj1hD8Yxtq"
      },
      "execution_count": null,
      "outputs": []
    },
    {
      "cell_type": "code",
      "source": [
        "import zipfile\n",
        "# Unzip the archive\n",
        "local_zip = 'Capstone.zip'\n",
        "zip_ref = zipfile.ZipFile(local_zip, 'r')\n",
        "zip_ref.extractall()\n",
        "\n",
        "zip_ref.close()"
      ],
      "metadata": {
        "id": "HdTV8TukTK6j"
      },
      "execution_count": null,
      "outputs": []
    },
    {
      "cell_type": "code",
      "source": [
        "dataset_dir = os.path.join('Capstone')\n",
        "classes = ['Pants', 'Skirt', 'Shirt', 'Blazer', 'Tshirt', 'Jacket', 'Short', 'Dress', 'Top']\n",
        "training_percentage = 0.9\n",
        "training_dataset_dir = 'training'\n",
        "validation_dataset_dir = 'validation'\n",
        "\n",
        "# Membuat direktori untuk training dan validation jika belum ada\n",
        "os.makedirs(training_dataset_dir, exist_ok=True)\n",
        "os.makedirs(validation_dataset_dir, exist_ok=True)\n",
        "\n",
        "for dirname in classes:\n",
        "    classpath = os.path.join(dataset_dir, dirname)\n",
        "    training_classpath = os.path.join(training_dataset_dir, dirname)\n",
        "    validation_classpath = os.path.join(validation_dataset_dir, dirname)\n",
        "\n",
        "    # Membuat direktori untuk masing-masing kelas jika belum ada\n",
        "    os.makedirs(training_classpath, exist_ok=True)\n",
        "    os.makedirs(validation_classpath, exist_ok=True)\n",
        "\n",
        "    # Mendapatkan daftar file dalam direktori kelas\n",
        "    file_list = os.listdir(classpath)\n",
        "    training_length = int(training_percentage * len(file_list))\n",
        "\n",
        "    counter = 0\n",
        "    for filename in file_list:\n",
        "        filepath = os.path.join(classpath, filename)\n",
        "        if counter < training_length:\n",
        "            shutil.move(filepath, training_classpath)\n",
        "        else:\n",
        "            shutil.move(filepath, validation_classpath)\n",
        "        counter += 1"
      ],
      "metadata": {
        "id": "Lmej6bXAZY_w"
      },
      "execution_count": null,
      "outputs": []
    },
    {
      "cell_type": "code",
      "source": [
        "training_datagen = tf.keras.preprocessing.image.ImageDataGenerator (\n",
        "    rescale = 1./255,\n",
        "    zoom_range = 0.25,\n",
        "    horizontal_flip = True,\n",
        "    vertical_flip = True\n",
        ")\n",
        "\n",
        "validation_datagen = tf.keras.preprocessing.image.ImageDataGenerator (\n",
        "    rescale = 1./255\n",
        ")"
      ],
      "metadata": {
        "id": "wDcB5Tj_bsz4"
      },
      "execution_count": null,
      "outputs": []
    },
    {
      "cell_type": "code",
      "source": [
        "training_generator = training_datagen.flow_from_directory(\n",
        "    training_dataset_dir,\n",
        "    target_size = (150, 150),\n",
        "    class_mode = 'categorical'\n",
        ")\n",
        "\n",
        "validation_generator = validation_datagen.flow_from_directory(\n",
        "    validation_dataset_dir,\n",
        "    target_size = (150, 150),\n",
        "    class_mode = 'categorical'\n",
        ")"
      ],
      "metadata": {
        "id": "oxlyckclbuqU"
      },
      "execution_count": null,
      "outputs": []
    }
  ]
}